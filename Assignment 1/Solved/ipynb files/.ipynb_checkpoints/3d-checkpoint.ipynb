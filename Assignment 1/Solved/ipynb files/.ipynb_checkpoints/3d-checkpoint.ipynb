{
 "cells": [
  {
   "cell_type": "code",
   "execution_count": 1,
   "metadata": {},
   "outputs": [],
   "source": [
    "import matplotlib.pyplot as plt\n",
    "import numpy as np\n",
    "from scipy.io import loadmat\n",
    "import pandas as pd \n",
    "from sklearn.tree import DecisionTreeClassifier\n",
    "from sklearn import metrics\n",
    "from pandas import DataFrame\n",
    "from sklearn import preprocessing \n",
    "import statistics"
   ]
  },
  {
   "cell_type": "code",
   "execution_count": 2,
   "metadata": {},
   "outputs": [],
   "source": [
    "df = pd.read_csv('PRSA.csv')"
   ]
  },
  {
   "cell_type": "code",
   "execution_count": 3,
   "metadata": {},
   "outputs": [],
   "source": [
    "df = df.fillna(0)"
   ]
  },
  {
   "cell_type": "code",
   "execution_count": 4,
   "metadata": {},
   "outputs": [],
   "source": [
    "label_encoder = preprocessing.LabelEncoder() \n",
    "df['cbwd']= label_encoder.fit_transform(df['cbwd'])"
   ]
  },
  {
   "cell_type": "code",
   "execution_count": 5,
   "metadata": {},
   "outputs": [],
   "source": [
    "def split(df):\n",
    "\n",
    "# Shuffle your dataset \n",
    "    shuffle_df = df.sample(frac=1)\n",
    "\n",
    "# Define a size for your train set \n",
    "    train_size = int(0.8 * len(df))\n",
    "\n",
    "# Split your dataset \n",
    "    train_set = shuffle_df[:train_size]\n",
    "    test_set = shuffle_df[train_size:]\n",
    "    \n",
    "    return train_set,test_set"
   ]
  },
  {
   "cell_type": "code",
   "execution_count": 6,
   "metadata": {},
   "outputs": [],
   "source": [
    "train_set, test_set = split(df)"
   ]
  },
  {
   "cell_type": "code",
   "execution_count": 7,
   "metadata": {},
   "outputs": [],
   "source": [
    "def feature(train_set,test_set):\n",
    "    feature_cols = ['year','day','hour','pm2.5','DEWP','TEMP','PRES','cbwd','Iws','Is','Ir']\n",
    "    X_train = train_set[feature_cols] # Features\n",
    "    X_test = test_set[feature_cols]\n",
    "\n",
    "    feature1 =['month']\n",
    "    Y_train = train_set[feature1] # Target variable\n",
    "    Y_test = test_set[feature1]\n",
    "    \n",
    "    return X_train,X_test,Y_train,Y_test"
   ]
  },
  {
   "cell_type": "code",
   "execution_count": 8,
   "metadata": {},
   "outputs": [],
   "source": [
    "def split50(df):\n",
    "    shuffle_df = df.sample(frac=1)\n",
    "    train_size = int(0.5 * len(df))\n",
    "    train_set = shuffle_df[:train_size]\n",
    "    return train_set"
   ]
  },
  {
   "cell_type": "code",
   "execution_count": 9,
   "metadata": {},
   "outputs": [
    {
     "name": "stdout",
     "output_type": "stream",
     "text": [
      "Tree:50 Depth:2   Train Accuracy:0.278074   Test Accuracy :0.270165 \n",
      "Tree:100 Depth:2   Train Accuracy:0.278074   Test Accuracy :0.270165 \n",
      "Tree:150 Depth:2   Train Accuracy:0.278074   Test Accuracy :0.270165 \n",
      "Tree:200 Depth:2   Train Accuracy:0.278074   Test Accuracy :0.270165 \n",
      "Tree:300 Depth:2   Train Accuracy:0.276277   Test Accuracy :0.269823 \n",
      "\n",
      "\n",
      "Tree:50 Depth:4   Train Accuracy:0.410765   Test Accuracy :0.415630 \n",
      "Tree:100 Depth:4   Train Accuracy:0.403976   Test Accuracy :0.409812 \n",
      "Tree:150 Depth:4   Train Accuracy:0.410736   Test Accuracy :0.413691 \n",
      "Tree:200 Depth:4   Train Accuracy:0.409367   Test Accuracy :0.409584 \n",
      "Tree:300 Depth:4   Train Accuracy:0.405203   Test Accuracy :0.410040 \n",
      "\n",
      "\n",
      "Tree:50 Depth:8   Train Accuracy:0.655809   Test Accuracy :0.637992 \n",
      "Tree:100 Depth:8   Train Accuracy:0.659374   Test Accuracy :0.641072 \n",
      "Tree:150 Depth:8   Train Accuracy:0.662768   Test Accuracy :0.639475 \n",
      "Tree:200 Depth:8   Train Accuracy:0.665878   Test Accuracy :0.642556 \n",
      "Tree:300 Depth:8   Train Accuracy:0.662112   Test Accuracy :0.642327 \n",
      "\n",
      "\n",
      "Tree:50 Depth:10   Train Accuracy:0.802419   Test Accuracy :0.760867 \n",
      "Tree:100 Depth:10   Train Accuracy:0.801278   Test Accuracy :0.761666 \n",
      "Tree:150 Depth:10   Train Accuracy:0.803503   Test Accuracy :0.762807 \n",
      "Tree:200 Depth:10   Train Accuracy:0.802447   Test Accuracy :0.760753 \n",
      "Tree:300 Depth:10   Train Accuracy:0.800080   Test Accuracy :0.760639 \n",
      "\n",
      "\n",
      "Tree:50 Depth:15   Train Accuracy:0.984769   Test Accuracy :0.908157 \n",
      "Tree:100 Depth:15   Train Accuracy:0.986052   Test Accuracy :0.914204 \n",
      "Tree:150 Depth:15   Train Accuracy:0.987050   Test Accuracy :0.914775 \n",
      "Tree:200 Depth:15   Train Accuracy:0.988163   Test Accuracy :0.918197 \n",
      "Tree:300 Depth:15   Train Accuracy:0.988305   Test Accuracy :0.914432 \n",
      "\n",
      "\n",
      "Tree:50 Depth:20   Train Accuracy:0.999116   Test Accuracy :0.931318 \n",
      "Tree:100 Depth:20   Train Accuracy:0.999629   Test Accuracy :0.937593 \n",
      "Tree:150 Depth:20   Train Accuracy:0.999715   Test Accuracy :0.937707 \n",
      "Tree:200 Depth:20   Train Accuracy:0.999886   Test Accuracy :0.937707 \n",
      "Tree:300 Depth:20   Train Accuracy:0.999857   Test Accuracy :0.938163 \n",
      "\n",
      "\n"
     ]
    }
   ],
   "source": [
    "trees = [50,100,150,200,300]\n",
    "depths= [2, 4, 8, 10, 15, 20]\n",
    "for i in depths:\n",
    "    for j in trees:\n",
    "        testpred={}\n",
    "        trainpred={}\n",
    "        for k in range(j):\n",
    "            clf = DecisionTreeClassifier(max_depth=i)\n",
    "            #train_set, test_set = split(df)\n",
    "            train_set50= split50(train_set)\n",
    "            X_train,X_test,Y_train,Y_test = feature(train_set,test_set)\n",
    "            X_train1,X_test1,Y_train1,Y_test1 = feature(train_set50,test_set)\n",
    "            clf = clf.fit(X_train1,Y_train1)\n",
    "            y_testpred = clf.predict(X_test)\n",
    "            testpred[k]=(y_testpred)\n",
    "            y_trainpred = clf.predict(X_train)\n",
    "            trainpred[k]= (y_trainpred)\n",
    "            #list1.append([i,metrics.accuracy_score(Y_test, y_testpred),metrics.accuracy_score(Y_train, y_trainpred)])\n",
    "        testpred1 = pd.DataFrame.from_dict(testpred,orient ='index')\n",
    "        testpred2=testpred1.mode()\n",
    "        testpred2 = testpred2.loc[0, : ]\n",
    "        \n",
    "        trainpred1 = pd.DataFrame.from_dict(trainpred,orient ='index')\n",
    "        trainpred2=trainpred1.mode()\n",
    "        trainpred2 = trainpred2.loc[0, : ]\n",
    "        print(\"Tree:%d Depth:%d   Train Accuracy:%f   Test Accuracy :%f \"%(j,i,metrics.accuracy_score(Y_train, trainpred2),metrics.accuracy_score(Y_test, testpred2)))\n",
    "    print(\"\\n\")"
   ]
  },
  {
   "cell_type": "code",
   "execution_count": null,
   "metadata": {},
   "outputs": [],
   "source": []
  }
 ],
 "metadata": {
  "kernelspec": {
   "display_name": "Python 3",
   "language": "python",
   "name": "python3"
  },
  "language_info": {
   "codemirror_mode": {
    "name": "ipython",
    "version": 3
   },
   "file_extension": ".py",
   "mimetype": "text/x-python",
   "name": "python",
   "nbconvert_exporter": "python",
   "pygments_lexer": "ipython3",
   "version": "3.8.3"
  }
 },
 "nbformat": 4,
 "nbformat_minor": 4
}
