{
 "cells": [
  {
   "cell_type": "code",
   "execution_count": 2,
   "metadata": {},
   "outputs": [
    {
     "data": {
      "image/png": "[encoded data removed]",
      "text/plain": [
       "<Figure size 432x288 with 1 Axes>"
      ]
     },
     "metadata": {
      "needs_background": "light"
     },
     "output_type": "display_data"
    }
   ],
   "source": [
    "import skimage.io, skimage.color\n",
    "import numpy\n",
    "import matplotlib.pyplot\n",
    "import HOG\n",
    "\n",
    "img = skimage.io.imread(\"down.jpeg\")\n",
    "img = skimage.color.rgb2gray(img)\n",
    "\n",
    "horizontal_mask = numpy.array([-1, 0, 1])\n",
    "vertical_mask = numpy.array([[-1],\n",
    "                             [0],\n",
    "                             [1]])\n",
    "\n",
    "horizontal_gradient = HOG.calculate_gradient(img, horizontal_mask)\n",
    "vertical_gradient = HOG.calculate_gradient(img, vertical_mask)\n",
    "\n",
    "grad_magnitude = HOG.gradient_magnitude(horizontal_gradient, vertical_gradient)\n",
    "grad_direction = HOG.gradient_direction(horizontal_gradient, vertical_gradient)\n",
    "\n",
    "grad_direction = grad_direction % 180\n",
    "hist_bins = numpy.array([10,30,50,70,90,110,130,150,170])\n",
    "\n",
    "# Histogram of the first cell in the first block.\n",
    "cell_direction = grad_direction[:8, :8]\n",
    "cell_magnitude = grad_magnitude[:8, :8]\n",
    "HOG_cell_hist = HOG.HOG_cell_histogram(cell_direction, cell_magnitude, hist_bins)\n",
    "\n",
    "matplotlib.pyplot.bar(x=numpy.arange(9), height=HOG_cell_hist, align=\"center\", width=0.8)\n",
    "matplotlib.pyplot.show()"
   ]
  },
  {
   "cell_type": "code",
   "execution_count": 3,
   "metadata": {},
   "outputs": [
    {
     "data": {
      "text/plain": [
       "array([8.06873819e+00, 1.28067890e+00, 4.18289037e-01, 8.58598969e+00,\n",
       "       2.13572359e-01, 3.47161509e+00, 1.78943266e-02, 0.00000000e+00,\n",
       "       1.07642478e+02])"
      ]
     },
     "execution_count": 3,
     "metadata": {},
     "output_type": "execute_result"
    }
   ],
   "source": [
    "HOG_cell_hist"
   ]
  },
  {
   "cell_type": "code",
   "execution_count": 4,
   "metadata": {},
   "outputs": [
    {
     "data": {
      "text/plain": [
       "(9,)"
      ]
     },
     "execution_count": 4,
     "metadata": {},
     "output_type": "execute_result"
    }
   ],
   "source": [
    "HOG_cell_hist.shape"
   ]
  },
  {
   "cell_type": "code",
   "execution_count": 5,
   "metadata": {},
   "outputs": [],
   "source": [
    "from skimage.feature import hog"
   ]
  },
  {
   "cell_type": "code",
   "execution_count": 7,
   "metadata": {},
   "outputs": [],
   "source": [
    "img1 = skimage.io.imread(\"down.jpeg\")\n",
    "img1 = skimage.color.rgb2gray(img)\n",
    "fd = hog(img1)"
   ]
  },
  {
   "cell_type": "code",
   "execution_count": 8,
   "metadata": {},
   "outputs": [
    {
     "data": {
      "text/plain": [
       "array([0.26228697, 0.        , 0.01201431, ..., 0.        , 0.00918366,\n",
       "       0.        ])"
      ]
     },
     "execution_count": 8,
     "metadata": {},
     "output_type": "execute_result"
    }
   ],
   "source": [
    "fd\n"
   ]
  },
  {
   "cell_type": "code",
   "execution_count": 9,
   "metadata": {},
   "outputs": [
    {
     "data": {
      "text/plain": [
       "(381024,)"
      ]
     },
     "execution_count": 9,
     "metadata": {},
     "output_type": "execute_result"
    }
   ],
   "source": [
    "fd.shape"
   ]
  },
  {
   "cell_type": "code",
   "execution_count": 10,
   "metadata": {},
   "outputs": [
    {
     "data": {
      "text/plain": [
       "(400, 800)"
      ]
     },
     "execution_count": 10,
     "metadata": {},
     "output_type": "execute_result"
    }
   ],
   "source": [
    "img.shape"
   ]
  },
  {
   "cell_type": "code",
   "execution_count": null,
   "metadata": {},
   "outputs": [],
   "source": []
  }
 ],
 "metadata": {
  "kernelspec": {
   "display_name": "Python 3",
   "language": "python",
   "name": "python3"
  },
  "language_info": {
   "codemirror_mode": {
    "name": "ipython",
    "version": 3
   },
   "file_extension": ".py",
   "mimetype": "text/x-python",
   "name": "python",
   "nbconvert_exporter": "python",
   "pygments_lexer": "ipython3",
   "version": "3.8.3"
  }
 },
 "nbformat": 4,
 "nbformat_minor": 4
}
