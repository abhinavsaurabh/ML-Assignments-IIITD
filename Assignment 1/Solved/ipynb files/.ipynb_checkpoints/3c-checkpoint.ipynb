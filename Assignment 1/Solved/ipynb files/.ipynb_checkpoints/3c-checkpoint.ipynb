{
 "cells": [
  {
   "cell_type": "code",
   "execution_count": 1,
   "metadata": {},
   "outputs": [],
   "source": [
    "import matplotlib.pyplot as plt\n",
    "import numpy as np\n",
    "from scipy.io import loadmat\n",
    "import pandas as pd \n",
    "from sklearn.tree import DecisionTreeClassifier\n",
    "from sklearn import metrics\n",
    "from pandas import DataFrame\n",
    "from sklearn import preprocessing \n",
    "import statistics"
   ]
  },
  {
   "cell_type": "code",
   "execution_count": 2,
   "metadata": {},
   "outputs": [],
   "source": [
    "df = pd.read_csv('PRSA.csv')"
   ]
  },
  {
   "cell_type": "code",
   "execution_count": 3,
   "metadata": {},
   "outputs": [],
   "source": [
    "df = df.fillna(0)"
   ]
  },
  {
   "cell_type": "code",
   "execution_count": 4,
   "metadata": {},
   "outputs": [],
   "source": [
    "label_encoder = preprocessing.LabelEncoder() \n",
    "df['cbwd']= label_encoder.fit_transform(df['cbwd'])"
   ]
  },
  {
   "cell_type": "code",
   "execution_count": 5,
   "metadata": {},
   "outputs": [],
   "source": [
    "def split(df):\n",
    "\n",
    "# Shuffle your dataset \n",
    "    shuffle_df = df.sample(frac=1)\n",
    "\n",
    "# Define a size for your train set \n",
    "    train_size = int(0.8 * len(df))\n",
    "\n",
    "# Split your dataset \n",
    "    train_set = shuffle_df[:train_size]\n",
    "    test_set = shuffle_df[train_size:]\n",
    "    \n",
    "    return train_set,test_set"
   ]
  },
  {
   "cell_type": "code",
   "execution_count": 6,
   "metadata": {},
   "outputs": [],
   "source": [
    "train_set, test_set = split(df)"
   ]
  },
  {
   "cell_type": "code",
   "execution_count": 7,
   "metadata": {},
   "outputs": [],
   "source": [
    "def feature(train_set,test_set):\n",
    "    feature_cols = ['year','day','hour','pm2.5','DEWP','TEMP','PRES','cbwd','Iws','Is','Ir']\n",
    "    X_train = train_set[feature_cols] # Features\n",
    "    X_test = test_set[feature_cols]\n",
    "\n",
    "    feature1 =['month']\n",
    "    Y_train = train_set[feature1] # Target variable\n",
    "    Y_test = test_set[feature1]\n",
    "    \n",
    "    return X_train,X_test,Y_train,Y_test"
   ]
  },
  {
   "cell_type": "code",
   "execution_count": 9,
   "metadata": {},
   "outputs": [],
   "source": [
    "def split50(df):\n",
    "    shuffle_df = df.sample(frac=1)\n",
    "    train_size = int(0.5 * len(df))\n",
    "    train_set = shuffle_df[:train_size]\n",
    "    return train_set"
   ]
  },
  {
   "cell_type": "code",
   "execution_count": 10,
   "metadata": {},
   "outputs": [],
   "source": [
    "#def split20(df):\n",
    " #   shuffle_df = df.sample(frac=1)\n",
    " #   test_size = int(0.5 * len(df))\n",
    " #   test_set = shuffle_df[:test_size]\n",
    " #   return test_set"
   ]
  },
  {
   "cell_type": "code",
   "execution_count": 50,
   "metadata": {},
   "outputs": [],
   "source": [
    "testpred={}\n",
    "for i in range(100):     \n",
    "    clf = DecisionTreeClassifier(max_depth=3)\n",
    "    #train_set, test_set = split(df)\n",
    "    train_set50= split50(train_set)\n",
    "    X_train,X_test,Y_train,Y_test = feature(train_set,test_set)\n",
    "    X_train1,X_test1,Y_train1,Y_test1 = feature(train_set50,test_set)\n",
    "    clf = clf.fit(X_train1,Y_train1)\n",
    "    y_testpred = clf.predict(X_test)\n",
    "    testpred[i]=(y_testpred)\n",
    "    #y_trainpred = clf.predict(X_train)\n",
    "    #trainpred[k]= (y_trainpred)\n",
    "    #y_trainpred = clf.predict(X_train)\n",
    "    #list1.append([i,metrics.accuracy_score(Y_test, y_testpred),metrics.accuracy_score(Y_train, y_trainpred)])\n",
    "    "
   ]
  },
  {
   "cell_type": "code",
   "execution_count": 51,
   "metadata": {},
   "outputs": [],
   "source": [
    "pred1 = pd.DataFrame.from_dict(testpred,orient ='index')"
   ]
  },
  {
   "cell_type": "code",
   "execution_count": 52,
   "metadata": {},
   "outputs": [],
   "source": [
    "pred2=pred1.mode()\n"
   ]
  },
  {
   "cell_type": "code",
   "execution_count": 53,
   "metadata": {},
   "outputs": [],
   "source": [
    "pred2 = pred2.loc[0, : ]"
   ]
  },
  {
   "cell_type": "code",
   "execution_count": 54,
   "metadata": {},
   "outputs": [
    {
     "data": {
      "text/plain": [
       "0.35322304620650313"
      ]
     },
     "execution_count": 54,
     "metadata": {},
     "output_type": "execute_result"
    }
   ],
   "source": [
    "metrics.accuracy_score(Y_test, pred2)"
   ]
  },
  {
   "cell_type": "code",
   "execution_count": null,
   "metadata": {},
   "outputs": [],
   "source": []
  }
 ],
 "metadata": {
  "kernelspec": {
   "display_name": "Python 3",
   "language": "python",
   "name": "python3"
  },
  "language_info": {
   "codemirror_mode": {
    "name": "ipython",
    "version": 3
   },
   "file_extension": ".py",
   "mimetype": "text/x-python",
   "name": "python",
   "nbconvert_exporter": "python",
   "pygments_lexer": "ipython3",
   "version": "3.8.3"
  }
 },
 "nbformat": 4,
 "nbformat_minor": 4
}
