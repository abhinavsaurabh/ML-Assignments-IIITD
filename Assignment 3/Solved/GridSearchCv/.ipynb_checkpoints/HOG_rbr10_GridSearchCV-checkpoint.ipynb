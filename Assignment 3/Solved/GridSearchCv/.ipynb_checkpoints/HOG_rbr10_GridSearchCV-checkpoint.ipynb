{
  "nbformat": 4,
  "nbformat_minor": 0,
  "metadata": {
    "colab": {
      "name": "HOG rbr10 GridSearchCV.ipynb",
      "provenance": []
    },
    "kernelspec": {
      "name": "python3",
      "display_name": "Python 3"
    }
  },
  "cells": [
    {
      "cell_type": "code",
      "metadata": {
        "id": "bDqKa2WaZ5nJ"
      },
      "source": [
        "CIFAR = '/content/drive/My Drive/Assignment/ML ASS 3/cifar-10-batches-py/'\n",
        "import numpy as np"
      ],
      "execution_count": 2,
      "outputs": []
    },
    {
      "cell_type": "code",
      "metadata": {
        "id": "-WlSJ_HEaZTx"
      },
      "source": [
        "def unpickle(file):\n",
        "    import pickle\n",
        "    with open(file,'rb') as fo:\n",
        "        cifar_dict = pickle.load(fo,encoding='bytes')\n",
        "    return cifar_dict"
      ],
      "execution_count": 3,
      "outputs": []
    },
    {
      "cell_type": "code",
      "metadata": {
        "id": "SSeQBBrRadCe"
      },
      "source": [
        "dirs = ['batches.meta','data_batch_1','data_batch_2','data_batch_3','data_batch_4','data_batch_5','test_batch']\n",
        "\n",
        "all_data = [0,1,2,3,4,5,6]\n",
        "\n",
        "for i, direc in zip(all_data,dirs):\n",
        "    all_data[i] = unpickle(CIFAR+direc)"
      ],
      "execution_count": 4,
      "outputs": []
    },
    {
      "cell_type": "code",
      "metadata": {
        "id": "jlfccIxRaenZ"
      },
      "source": [
        "batch_meta = all_data[0]\n",
        "data_batch1 = all_data[1]\n",
        "data_batch2 = all_data[2]\n",
        "data_batch3 = all_data[3]\n",
        "data_batch4 = all_data[4]\n",
        "data_batch5 = all_data[5]\n",
        "test_batch = all_data[6]"
      ],
      "execution_count": 5,
      "outputs": []
    },
    {
      "cell_type": "code",
      "metadata": {
        "id": "MMCjuzA8agUD"
      },
      "source": [
        "all_train_batches = [data_batch1,data_batch2,data_batch3,data_batch4,data_batch5]\n",
        "test_batch1 = [test_batch]\n",
        "\n",
        "training_image = np.vstack([d[b\"data\"] for d in all_train_batches])\n",
        "train_len = len(training_image)\n",
        "training_image = training_image.reshape(train_len,3*32*32)\n",
        "training_label = np.hstack([d[b\"labels\"] for d in all_train_batches])"
      ],
      "execution_count": 6,
      "outputs": []
    },
    {
      "cell_type": "code",
      "metadata": {
        "id": "5S5rwcoVag5f"
      },
      "source": [
        "test_image = np.vstack([d[b\"data\"] for d in test_batch1])\n",
        "test_len = len(test_image)\n",
        "test_image = test_image.reshape(test_len,3*32*32)\n",
        "test_label = np.hstack([d[b\"labels\"] for d in test_batch1])"
      ],
      "execution_count": 7,
      "outputs": []
    },
    {
      "cell_type": "code",
      "metadata": {
        "id": "dHlXJbgwajPM"
      },
      "source": [
        "##### RAJATA CODE for hog + color hist\n",
        "import numpy as np\n",
        "import matplotlib.colors as colors\n",
        "from skimage.feature import hog\n",
        "from skimage import color\n",
        "\n",
        "X_train_hog = []\n",
        "\n",
        "for img in training_image:\n",
        "\n",
        "    img = np.reshape(img.T,(32,32,3))\n",
        "    # color histogram\n",
        "    array=np.asarray(img)\n",
        "    arr=(array.astype(float))/255.0\n",
        "    img_hsv = colors.rgb_to_hsv(arr[...,:3])\n",
        "    img_color_hist = np.histogram(img_hsv[...,0],bins=10)\n",
        "    hist_values = img_color_hist[0]\n",
        "\n",
        "    #hog\n",
        "    gray_image = color.rgb2gray(img)\n",
        "    hog_feature = hog(gray_image,orientations=8, pixels_per_cell=(8, 8), cells_per_block=(1, 1))\n",
        "\n",
        "    #joined\n",
        "    X_train_hog.append(np.concatenate((hist_values,hog_feature),axis=None))"
      ],
      "execution_count": 8,
      "outputs": []
    },
    {
      "cell_type": "code",
      "metadata": {
        "id": "KVt92rFUak9U"
      },
      "source": [
        "X_test_hog = []\n",
        "\n",
        "for img in test_image:\n",
        "\n",
        "    img = np.reshape(img.T,(32,32,3))\n",
        "    # color histogram\n",
        "    array=np.asarray(img)\n",
        "    arr=(array.astype(float))/255.0\n",
        "    img_hsv = colors.rgb_to_hsv(arr[...,:3])\n",
        "    img_color_hist = np.histogram(img_hsv[...,0],bins=10)\n",
        "    hist_values = img_color_hist[0]\n",
        "\n",
        "    #hog\n",
        "    gray_image = color.rgb2gray(img)\n",
        "    hog_feature = hog(gray_image,orientations=8, pixels_per_cell=(8, 8), cells_per_block=(1, 1))\n",
        "\n",
        "    #joined\n",
        "    X_test_hog.append(np.concatenate((hist_values,hog_feature),axis=None))"
      ],
      "execution_count": 19,
      "outputs": []
    },
    {
      "cell_type": "code",
      "metadata": {
        "id": "jGgAWNa3bfUG"
      },
      "source": [
        "import numpy\n",
        "X_train =numpy.asarray(X_train_hog)\n",
        "X_test = numpy.asarray(X_test_hog)"
      ],
      "execution_count": 20,
      "outputs": []
    },
    {
      "cell_type": "code",
      "metadata": {
        "id": "qgMffOCzbnN8",
        "outputId": "2804bb5d-b15d-44ac-fe46-cea930a6724e",
        "colab": {
          "base_uri": "https://localhost:8080/"
        }
      },
      "source": [
        "X_train.shape\n"
      ],
      "execution_count": 22,
      "outputs": [
        {
          "output_type": "execute_result",
          "data": {
            "text/plain": [
              "(50000, 138)"
            ]
          },
          "metadata": {
            "tags": []
          },
          "execution_count": 22
        }
      ]
    },
    {
      "cell_type": "code",
      "metadata": {
        "id": "vliaWGsra0X0",
        "outputId": "dc0cdabf-2bd9-4aab-ece2-d0c3e88306fb",
        "colab": {
          "base_uri": "https://localhost:8080/"
        }
      },
      "source": [
        "from sklearn.model_selection import GridSearchCV \n",
        "from sklearn.svm import SVC \n",
        "import pickle \n",
        "# defining parameter range \n",
        "param_grid = {'C': [10],                 \n",
        "              'kernel': ['rbf']}  \n",
        "  \n",
        "grid = GridSearchCV(SVC(), param_grid, refit = True, verbose = 3,cv=5,n_jobs=-1) \n",
        "  \n",
        "# fitting the model for grid search \n",
        "grid.fit(X_train, training_label) "
      ],
      "execution_count": 23,
      "outputs": [
        {
          "output_type": "stream",
          "text": [
            "Fitting 5 folds for each of 1 candidates, totalling 5 fits\n"
          ],
          "name": "stdout"
        },
        {
          "output_type": "stream",
          "text": [
            "[Parallel(n_jobs=-1)]: Using backend LokyBackend with 2 concurrent workers.\n",
            "[Parallel(n_jobs=-1)]: Done   5 out of   5 | elapsed: 48.3min finished\n"
          ],
          "name": "stderr"
        },
        {
          "output_type": "execute_result",
          "data": {
            "text/plain": [
              "GridSearchCV(cv=5, error_score=nan,\n",
              "             estimator=SVC(C=1.0, break_ties=False, cache_size=200,\n",
              "                           class_weight=None, coef0=0.0,\n",
              "                           decision_function_shape='ovr', degree=3,\n",
              "                           gamma='scale', kernel='rbf', max_iter=-1,\n",
              "                           probability=False, random_state=None, shrinking=True,\n",
              "                           tol=0.001, verbose=False),\n",
              "             iid='deprecated', n_jobs=-1,\n",
              "             param_grid={'C': [10], 'kernel': ['rbf']}, pre_dispatch='2*n_jobs',\n",
              "             refit=True, return_train_score=False, scoring=None, verbose=3)"
            ]
          },
          "metadata": {
            "tags": []
          },
          "execution_count": 23
        }
      ]
    },
    {
      "cell_type": "code",
      "metadata": {
        "id": "2fQCZORpa_E9",
        "outputId": "7c92b7f5-cada-4af9-97dd-81fd9a0ad01e",
        "colab": {
          "base_uri": "https://localhost:8080/"
        }
      },
      "source": [
        "print(grid.best_params_) "
      ],
      "execution_count": 24,
      "outputs": [
        {
          "output_type": "stream",
          "text": [
            "{'C': 10, 'kernel': 'rbf'}\n"
          ],
          "name": "stdout"
        }
      ]
    },
    {
      "cell_type": "code",
      "metadata": {
        "id": "EeMrkNnKbBA1",
        "outputId": "3cd0ee39-ef19-497e-bb21-8f1bd8154bbb",
        "colab": {
          "base_uri": "https://localhost:8080/"
        }
      },
      "source": [
        "print(grid.best_estimator_) "
      ],
      "execution_count": 25,
      "outputs": [
        {
          "output_type": "stream",
          "text": [
            "SVC(C=10, break_ties=False, cache_size=200, class_weight=None, coef0=0.0,\n",
            "    decision_function_shape='ovr', degree=3, gamma='scale', kernel='rbf',\n",
            "    max_iter=-1, probability=False, random_state=None, shrinking=True,\n",
            "    tol=0.001, verbose=False)\n"
          ],
          "name": "stdout"
        }
      ]
    },
    {
      "cell_type": "code",
      "metadata": {
        "id": "Z8kYANgTbDI3"
      },
      "source": [
        "sv = grid.best_estimator_.fit(X_train,training_label)"
      ],
      "execution_count": 31,
      "outputs": []
    },
    {
      "cell_type": "code",
      "metadata": {
        "id": "RfrNkA324fbF"
      },
      "source": [
        "filename = 'SVMrbf10 HOG .sav'\n",
        "pickle.dump(sv, open(filename, 'wb'))"
      ],
      "execution_count": 32,
      "outputs": []
    },
    {
      "cell_type": "code",
      "metadata": {
        "id": "t05RXa4ubGM2"
      },
      "source": [
        "grid_trainpredict = grid.predict(X_train)"
      ],
      "execution_count": 27,
      "outputs": []
    },
    {
      "cell_type": "code",
      "metadata": {
        "id": "5UieiYw0bIn9"
      },
      "source": [
        "grid_predictions = grid.predict(X_test) "
      ],
      "execution_count": 28,
      "outputs": []
    },
    {
      "cell_type": "code",
      "metadata": {
        "id": "rGtl9SDubKwt",
        "outputId": "913ef80d-0628-4e63-a7b9-b6042f787f04",
        "colab": {
          "base_uri": "https://localhost:8080/"
        }
      },
      "source": [
        "from sklearn.metrics import classification_report, confusion_matrix\n",
        "print(classification_report(training_label, grid_trainpredict))"
      ],
      "execution_count": 29,
      "outputs": [
        {
          "output_type": "stream",
          "text": [
            "              precision    recall  f1-score   support\n",
            "\n",
            "           0       0.35      0.38      0.37      5000\n",
            "           1       0.22      0.33      0.26      5000\n",
            "           2       0.29      0.02      0.04      5000\n",
            "           3       0.28      0.04      0.07      5000\n",
            "           4       0.28      0.25      0.26      5000\n",
            "           5       0.25      0.36      0.30      5000\n",
            "           6       0.32      0.34      0.33      5000\n",
            "           7       0.25      0.33      0.28      5000\n",
            "           8       0.28      0.33      0.31      5000\n",
            "           9       0.19      0.26      0.22      5000\n",
            "\n",
            "    accuracy                           0.26     50000\n",
            "   macro avg       0.27      0.26      0.24     50000\n",
            "weighted avg       0.27      0.26      0.24     50000\n",
            "\n"
          ],
          "name": "stdout"
        }
      ]
    },
    {
      "cell_type": "code",
      "metadata": {
        "id": "PRTiSa8fbM4h",
        "outputId": "5252108a-6426-4852-f55e-dc35e43a511d",
        "colab": {
          "base_uri": "https://localhost:8080/"
        }
      },
      "source": [
        "print(classification_report(test_label, grid_predictions))"
      ],
      "execution_count": 30,
      "outputs": [
        {
          "output_type": "stream",
          "text": [
            "              precision    recall  f1-score   support\n",
            "\n",
            "           0       0.36      0.38      0.37      1000\n",
            "           1       0.20      0.31      0.25      1000\n",
            "           2       0.25      0.02      0.03      1000\n",
            "           3       0.26      0.04      0.06      1000\n",
            "           4       0.29      0.25      0.27      1000\n",
            "           5       0.25      0.37      0.30      1000\n",
            "           6       0.32      0.35      0.34      1000\n",
            "           7       0.25      0.32      0.28      1000\n",
            "           8       0.28      0.33      0.30      1000\n",
            "           9       0.20      0.27      0.23      1000\n",
            "\n",
            "    accuracy                           0.26     10000\n",
            "   macro avg       0.27      0.26      0.24     10000\n",
            "weighted avg       0.27      0.26      0.24     10000\n",
            "\n"
          ],
          "name": "stdout"
        }
      ]
    }
  ]
}