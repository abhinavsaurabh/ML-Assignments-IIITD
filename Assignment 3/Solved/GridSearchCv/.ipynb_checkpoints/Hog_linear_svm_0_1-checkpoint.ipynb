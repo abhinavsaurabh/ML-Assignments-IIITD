{
  "nbformat": 4,
  "nbformat_minor": 0,
  "metadata": {
    "colab": {
      "name": "Hog linear svm 0.1.ipynb",
      "provenance": []
    },
    "kernelspec": {
      "name": "python3",
      "display_name": "Python 3"
    }
  },
  "cells": [
    {
      "cell_type": "code",
      "metadata": {
        "id": "M3WAqtKo3x8d"
      },
      "source": [
        "CIFAR = '/content/drive/My Drive/Assignment/ML ASS 3/cifar-10-batches-py/'\n",
        "import numpy as np"
      ],
      "execution_count": 1,
      "outputs": []
    },
    {
      "cell_type": "code",
      "metadata": {
        "id": "enA7bLuC31Xh"
      },
      "source": [
        "def unpickle(file):\n",
        "    import pickle\n",
        "    with open(file,'rb') as fo:\n",
        "        cifar_dict = pickle.load(fo,encoding='bytes')\n",
        "    return cifar_dict"
      ],
      "execution_count": 2,
      "outputs": []
    },
    {
      "cell_type": "code",
      "metadata": {
        "id": "JNgsR-xt34LB"
      },
      "source": [
        "dirs = ['batches.meta','data_batch_1','data_batch_2','data_batch_3','data_batch_4','data_batch_5','test_batch']\n",
        "\n",
        "all_data = [0,1,2,3,4,5,6]\n",
        "\n",
        "for i, direc in zip(all_data,dirs):\n",
        "    all_data[i] = unpickle(CIFAR+direc)"
      ],
      "execution_count": 3,
      "outputs": []
    },
    {
      "cell_type": "code",
      "metadata": {
        "id": "Tn9HYkpp3545"
      },
      "source": [
        "batch_meta = all_data[0]\n",
        "data_batch1 = all_data[1]\n",
        "data_batch2 = all_data[2]\n",
        "data_batch3 = all_data[3]\n",
        "data_batch4 = all_data[4]\n",
        "data_batch5 = all_data[5]\n",
        "test_batch = all_data[6]"
      ],
      "execution_count": 4,
      "outputs": []
    },
    {
      "cell_type": "code",
      "metadata": {
        "id": "7pjcw34L37YN"
      },
      "source": [
        "all_train_batches = [data_batch1,data_batch2,data_batch3,data_batch4,data_batch5]\n",
        "test_batch1 = [test_batch]\n",
        "\n",
        "training_image = np.vstack([d[b\"data\"] for d in all_train_batches])\n",
        "train_len = len(training_image)\n",
        "training_image = training_image.reshape(train_len,3*32*32)\n",
        "training_label = np.hstack([d[b\"labels\"] for d in all_train_batches])"
      ],
      "execution_count": 5,
      "outputs": []
    },
    {
      "cell_type": "code",
      "metadata": {
        "id": "nzOwA2NS38Fz"
      },
      "source": [
        "test_image = np.vstack([d[b\"data\"] for d in test_batch1])\n",
        "test_len = len(test_image)\n",
        "test_image = test_image.reshape(test_len,3*32*32)\n",
        "test_label = np.hstack([d[b\"labels\"] for d in test_batch1])"
      ],
      "execution_count": 6,
      "outputs": []
    },
    {
      "cell_type": "code",
      "metadata": {
        "id": "nIyLWDQ_4Bbv"
      },
      "source": [
        "##### RAJATA CODE for hog + color hist\n",
        "import numpy as np\n",
        "import matplotlib.colors as colors\n",
        "from skimage.feature import hog\n",
        "from skimage import color\n",
        "\n",
        "X_train_hog = []\n",
        "\n",
        "for img in training_image:\n",
        "\n",
        "    img = np.reshape(img.T,(32,32,3))\n",
        "    # color histogram\n",
        "    array=np.asarray(img)\n",
        "    arr=(array.astype(float))/255.0\n",
        "    img_hsv = colors.rgb_to_hsv(arr[...,:3])\n",
        "    img_color_hist = np.histogram(img_hsv[...,0],bins=10)\n",
        "    hist_values = img_color_hist[0]\n",
        "\n",
        "    #hog\n",
        "    gray_image = color.rgb2gray(img)\n",
        "    hog_feature = hog(gray_image,orientations=8, pixels_per_cell=(8, 8), cells_per_block=(1, 1))\n",
        "\n",
        "    #joined\n",
        "    X_train_hog.append(np.concatenate((hist_values,hog_feature),axis=None))"
      ],
      "execution_count": 7,
      "outputs": []
    },
    {
      "cell_type": "code",
      "metadata": {
        "id": "jYn0gXzt4DWl"
      },
      "source": [
        "X_test_hog = []\n",
        "\n",
        "for img in test_image:\n",
        "\n",
        "    img = np.reshape(img.T,(32,32,3))\n",
        "    # color histogram\n",
        "    array=np.asarray(img)\n",
        "    arr=(array.astype(float))/255.0\n",
        "    img_hsv = colors.rgb_to_hsv(arr[...,:3])\n",
        "    img_color_hist = np.histogram(img_hsv[...,0],bins=10)\n",
        "    hist_values = img_color_hist[0]\n",
        "\n",
        "    #hog\n",
        "    gray_image = color.rgb2gray(img)\n",
        "    hog_feature = hog(gray_image,orientations=8, pixels_per_cell=(8, 8), cells_per_block=(1, 1))\n",
        "\n",
        "    #joined\n",
        "    X_test_hog.append(np.concatenate((hist_values,hog_feature),axis=None))"
      ],
      "execution_count": 8,
      "outputs": []
    },
    {
      "cell_type": "code",
      "metadata": {
        "id": "1kAxsbSR4D9z"
      },
      "source": [
        "import numpy\n",
        "X_train =numpy.asarray(X_train_hog)\n",
        "X_test = numpy.asarray(X_test_hog)"
      ],
      "execution_count": 9,
      "outputs": []
    },
    {
      "cell_type": "code",
      "metadata": {
        "id": "HS9Vi3zd4Hlj",
        "outputId": "17f6462b-4770-4234-b625-d7da152a674d",
        "colab": {
          "base_uri": "https://localhost:8080/"
        }
      },
      "source": [
        "from sklearn.model_selection import GridSearchCV \n",
        "from sklearn.svm import SVC \n",
        "import pickle \n",
        "# defining parameter range \n",
        "param_grid = {'C': [0.1],                 \n",
        "              'kernel': ['linear']}  \n",
        "  \n",
        "grid = GridSearchCV(SVC(), param_grid, refit = True, verbose = 3,cv=5,n_jobs=-1) \n",
        "  \n",
        "# fitting the model for grid search \n",
        "grid.fit(X_train, training_label) "
      ],
      "execution_count": 10,
      "outputs": [
        {
          "output_type": "stream",
          "text": [
            "Fitting 5 folds for each of 1 candidates, totalling 5 fits\n"
          ],
          "name": "stdout"
        },
        {
          "output_type": "stream",
          "text": [
            "[Parallel(n_jobs=-1)]: Using backend LokyBackend with 2 concurrent workers.\n",
            "[Parallel(n_jobs=-1)]: Done   5 out of   5 | elapsed: 144.9min finished\n"
          ],
          "name": "stderr"
        },
        {
          "output_type": "execute_result",
          "data": {
            "text/plain": [
              "GridSearchCV(cv=5, error_score=nan,\n",
              "             estimator=SVC(C=1.0, break_ties=False, cache_size=200,\n",
              "                           class_weight=None, coef0=0.0,\n",
              "                           decision_function_shape='ovr', degree=3,\n",
              "                           gamma='scale', kernel='rbf', max_iter=-1,\n",
              "                           probability=False, random_state=None, shrinking=True,\n",
              "                           tol=0.001, verbose=False),\n",
              "             iid='deprecated', n_jobs=-1,\n",
              "             param_grid={'C': [0.1], 'kernel': ['linear']},\n",
              "             pre_dispatch='2*n_jobs', refit=True, return_train_score=False,\n",
              "             scoring=None, verbose=3)"
            ]
          },
          "metadata": {
            "tags": []
          },
          "execution_count": 10
        }
      ]
    },
    {
      "cell_type": "code",
      "metadata": {
        "id": "1ikWZj-B4MWe",
        "outputId": "7d60ff77-fabd-4164-ee96-6d2a19ff0d41",
        "colab": {
          "base_uri": "https://localhost:8080/"
        }
      },
      "source": [
        "print(grid.best_params_) "
      ],
      "execution_count": 11,
      "outputs": [
        {
          "output_type": "stream",
          "text": [
            "{'C': 0.1, 'kernel': 'linear'}\n"
          ],
          "name": "stdout"
        }
      ]
    },
    {
      "cell_type": "code",
      "metadata": {
        "id": "MQ9x3AEP4OLK"
      },
      "source": [
        "sv = grid.best_estimator_.fit(X_train,training_label)"
      ],
      "execution_count": 16,
      "outputs": []
    },
    {
      "cell_type": "code",
      "metadata": {
        "id": "5ELGzRPFFfSZ"
      },
      "source": [
        "filename = 'SVMlinear01 HOG .sav'\n",
        "pickle.dump(sv, open(filename, 'wb'))"
      ],
      "execution_count": 17,
      "outputs": []
    },
    {
      "cell_type": "code",
      "metadata": {
        "id": "n_wMm6W74RCr"
      },
      "source": [
        "grid_trainpredict = grid.predict(X_train)"
      ],
      "execution_count": 12,
      "outputs": []
    },
    {
      "cell_type": "code",
      "metadata": {
        "id": "lLYRGZSW4Rnv"
      },
      "source": [
        "grid_predictions = grid.predict(X_test) "
      ],
      "execution_count": 13,
      "outputs": []
    },
    {
      "cell_type": "code",
      "metadata": {
        "id": "QGWR7r8G4WGk",
        "outputId": "4aeca7f1-d650-4db5-84b5-296437809909",
        "colab": {
          "base_uri": "https://localhost:8080/"
        }
      },
      "source": [
        "from sklearn.metrics import classification_report, confusion_matrix\n",
        "print(classification_report(training_label, grid_trainpredict))"
      ],
      "execution_count": 14,
      "outputs": [
        {
          "output_type": "stream",
          "text": [
            "              precision    recall  f1-score   support\n",
            "\n",
            "           0       0.47      0.42      0.44      5000\n",
            "           1       0.37      0.46      0.41      5000\n",
            "           2       0.30      0.21      0.25      5000\n",
            "           3       0.29      0.17      0.21      5000\n",
            "           4       0.34      0.33      0.34      5000\n",
            "           5       0.32      0.46      0.38      5000\n",
            "           6       0.38      0.55      0.45      5000\n",
            "           7       0.32      0.31      0.32      5000\n",
            "           8       0.45      0.44      0.45      5000\n",
            "           9       0.32      0.26      0.29      5000\n",
            "\n",
            "    accuracy                           0.36     50000\n",
            "   macro avg       0.36      0.36      0.35     50000\n",
            "weighted avg       0.36      0.36      0.35     50000\n",
            "\n"
          ],
          "name": "stdout"
        }
      ]
    },
    {
      "cell_type": "code",
      "metadata": {
        "id": "W26vTEHA4X3l",
        "outputId": "a48d58c0-36b5-4619-d401-9fdd87e7ff24",
        "colab": {
          "base_uri": "https://localhost:8080/"
        }
      },
      "source": [
        "print(classification_report(test_label, grid_predictions))"
      ],
      "execution_count": 15,
      "outputs": [
        {
          "output_type": "stream",
          "text": [
            "              precision    recall  f1-score   support\n",
            "\n",
            "           0       0.47      0.41      0.44      1000\n",
            "           1       0.36      0.43      0.39      1000\n",
            "           2       0.29      0.20      0.24      1000\n",
            "           3       0.23      0.13      0.17      1000\n",
            "           4       0.32      0.31      0.32      1000\n",
            "           5       0.31      0.46      0.37      1000\n",
            "           6       0.37      0.53      0.44      1000\n",
            "           7       0.32      0.31      0.31      1000\n",
            "           8       0.45      0.43      0.44      1000\n",
            "           9       0.30      0.25      0.27      1000\n",
            "\n",
            "    accuracy                           0.35     10000\n",
            "   macro avg       0.34      0.35      0.34     10000\n",
            "weighted avg       0.34      0.35      0.34     10000\n",
            "\n"
          ],
          "name": "stdout"
        }
      ]
    }
  ]
}