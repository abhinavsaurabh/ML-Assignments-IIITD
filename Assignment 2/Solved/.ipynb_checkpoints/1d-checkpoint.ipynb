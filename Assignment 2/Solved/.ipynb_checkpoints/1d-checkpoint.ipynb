{
 "cells": [
  {
   "cell_type": "code",
   "execution_count": 4,
   "metadata": {},
   "outputs": [
    {
     "name": "stdout",
     "output_type": "stream",
     "text": [
      "   Fold  Train MSE  Validation MSE\n",
      "0     5   5.117855        4.125120\n",
      "1     1   3.838241       10.088946\n",
      "2     2   5.406304        3.152181\n",
      "3     3   4.711082        5.962976\n",
      "4     4   5.191065        3.843438\n"
     ]
    }
   ],
   "source": [
    "    import pandas as pd\n",
    "    from sklearn.metrics import mean_squared_error\n",
    "    import pandas as pd\n",
    "    from pandas import DataFrame\n",
    "    from sklearn import preprocessing \n",
    "    from sklearn.preprocessing import LabelEncoder\n",
    "    from sklearn.linear_model import LinearRegression\n",
    "    df = pd.read_csv( \"Dataset.data\",header=None,delimiter = r\"\\s+\" )\n",
    "    label_encoder = preprocessing.LabelEncoder() \n",
    "    df[0]= label_encoder.fit_transform(df[0])\n",
    "    feature_cols = [0,1,2,3,4,5,6,7]\n",
    "    target = [8]\n",
    "    X = df[feature_cols]\n",
    "    Y = df[target]\n",
    "    Xfold1,Xfold2,Xfold3,Xfold4,Xfold5 = fold_split(X)\n",
    "    Yfold1,Yfold2,Yfold3,Yfold4,Yfold5 = fold_split(Y)\n",
    "    model = LinearRegression()\n",
    "    \n",
    "    dfX1 = pd.concat([Xfold1,Xfold2,Xfold3,Xfold4], ignore_index=True)\n",
    "    dfY1 = pd.concat([Yfold1,Yfold2,Yfold3,Yfold4], ignore_index=True)\n",
    "    model.fit(dfX1.to_numpy(), dfY1.to_numpy())\n",
    "    #print(dfX1)\n",
    "    #print(dfX1.to_numpy())\n",
    "    Y_train1 = model.predict(dfX1.to_numpy())\n",
    "    Y_pred1 = model.predict(Xfold5.to_numpy())\n",
    "    \n",
    "    dfX2 = pd.concat([Xfold2,Xfold3,Xfold4,Xfold5], ignore_index=True)\n",
    "    dfY2 = pd.concat([Yfold2,Yfold3,Yfold4,Yfold5], ignore_index=True)\n",
    "    model.fit(dfX2.to_numpy(), dfY2.to_numpy()) \n",
    "    Y_train2 = model.predict(dfX2.to_numpy())\n",
    "    Y_pred2 = model.predict(Xfold1.to_numpy())\n",
    "    \n",
    "    dfX3 = pd.concat([Xfold3,Xfold4,Xfold5,Xfold1], ignore_index=True)\n",
    "    dfY3 = pd.concat([Yfold3,Yfold4,Yfold5,Yfold1], ignore_index=True)\n",
    "    model.fit(dfX3.to_numpy(), dfY3.to_numpy()) \n",
    "    Y_train3 = model.predict(dfX3.to_numpy())\n",
    "    Y_pred3 = model.predict(Xfold2.to_numpy())\n",
    "    \n",
    "    dfX4 = pd.concat([Xfold4,Xfold5,Xfold1,Xfold2], ignore_index=True)\n",
    "    dfY4 = pd.concat([Yfold4,Yfold5,Yfold1,Yfold2], ignore_index=True)\n",
    "    model.fit(dfX4.to_numpy(), dfY4.to_numpy()) \n",
    "    Y_train4 = model.predict(dfX4.to_numpy())\n",
    "    Y_pred4 = model.predict(Xfold3.to_numpy())\n",
    "    \n",
    "    dfX5 = pd.concat([Xfold5,Xfold1,Xfold2,Xfold3], ignore_index=True)\n",
    "    dfY5 = pd.concat([Yfold5,Yfold1,Yfold2,Yfold3], ignore_index=True)\n",
    "    model.fit(dfX5.to_numpy(), dfY5.to_numpy()) \n",
    "    Y_train5 = model.predict(dfX5.to_numpy())\n",
    "    Y_pred5 = model.predict(Xfold4.to_numpy())\n",
    "    \n",
    "    list1=[]\n",
    "    list1.append((5,mean_squared_error(dfY1,Y_train1),mean_squared_error(Yfold5,Y_pred1)))\n",
    "    list1.append((1,mean_squared_error(dfY2,Y_train2),mean_squared_error(Yfold1,Y_pred2)))\n",
    "    list1.append((2,mean_squared_error(dfY3,Y_train3),mean_squared_error(Yfold2,Y_pred3)))\n",
    "    list1.append((3,mean_squared_error(dfY4,Y_train4),mean_squared_error(Yfold3,Y_pred4)))\n",
    "    list1.append((4,mean_squared_error(dfY5,Y_train5),mean_squared_error(Yfold4,Y_pred5)))\n",
    "    df2 = DataFrame(list1,columns=['Fold','Train MSE','Validation MSE'])\n",
    "    print(df2)"
   ]
  },
  {
   "cell_type": "code",
   "execution_count": 3,
   "metadata": {},
   "outputs": [],
   "source": [
    "def fold_split(Z):\n",
    "    f = Z.shape[0]//5\n",
    "    fold1=Z[:f]\n",
    "    fold2=Z[f:(2*f)]\n",
    "    fold3=Z[(2*f):(3*f)]\n",
    "    fold4=Z[(3*f):(4*f)]\n",
    "    fold5=Z[(4*f):]\n",
    "    return fold1,fold2,fold3,fold4,fold5"
   ]
  },
  {
   "cell_type": "code",
   "execution_count": null,
   "metadata": {},
   "outputs": [],
   "source": []
  }
 ],
 "metadata": {
  "kernelspec": {
   "display_name": "Python 3",
   "language": "python",
   "name": "python3"
  },
  "language_info": {
   "codemirror_mode": {
    "name": "ipython",
    "version": 3
   },
   "file_extension": ".py",
   "mimetype": "text/x-python",
   "name": "python",
   "nbconvert_exporter": "python",
   "pygments_lexer": "ipython3",
   "version": "3.8.3"
  }
 },
 "nbformat": 4,
 "nbformat_minor": 4
}
