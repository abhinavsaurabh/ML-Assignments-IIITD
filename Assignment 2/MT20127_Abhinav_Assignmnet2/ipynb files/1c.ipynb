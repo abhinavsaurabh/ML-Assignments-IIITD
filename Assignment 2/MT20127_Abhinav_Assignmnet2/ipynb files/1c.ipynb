{
 "cells": [
  {
   "cell_type": "code",
   "execution_count": 2,
   "metadata": {},
   "outputs": [],
   "source": [
    "from numpy.linalg import inv\n",
    "def get_best_param(X, y):  \n",
    "    X_transpose = X.T  \n",
    "    best_params = inv(X_transpose.dot(X)).dot(X_transpose).dot(y)  \n",
    "    \n",
    "      \n",
    "    return best_params "
   ]
  },
  {
   "cell_type": "code",
   "execution_count": 3,
   "metadata": {},
   "outputs": [],
   "source": [
    "    import pandas as pd\n",
    "    from sklearn.metrics import mean_squared_error\n",
    "    import pandas as pd\n",
    "    from pandas import DataFrame\n",
    "    from sklearn import preprocessing\n",
    "    from sklearn.preprocessing import LabelEncoder"
   ]
  },
  {
   "cell_type": "code",
   "execution_count": 4,
   "metadata": {},
   "outputs": [],
   "source": [
    "def fold_split(Z):\n",
    "    f = Z.shape[0]//5\n",
    "    fold1=Z[:f]\n",
    "    fold2=Z[f:(2*f)]\n",
    "    fold3=Z[(2*f):(3*f)]\n",
    "    fold4=Z[(3*f):(4*f)]\n",
    "    fold5=Z[(4*f):]\n",
    "    return fold1,fold2,fold3,fold4,fold5"
   ]
  },
  {
   "cell_type": "code",
   "execution_count": 5,
   "metadata": {},
   "outputs": [],
   "source": [
    "def mse(y, y_pred): \n",
    "    import numpy as np\n",
    "    y, y_pred = np.array(y), np.array(y_pred)\n",
    "    return np.square(np.subtract(y,y_pred)).mean()"
   ]
  },
  {
   "cell_type": "code",
   "execution_count": 6,
   "metadata": {},
   "outputs": [
    {
     "name": "stdout",
     "output_type": "stream",
     "text": [
      "   Fold  Train MSE  Validation MSE\n",
      "0     5   5.259382        4.218434\n",
      "1     1   3.993254       10.185761\n",
      "2     2   5.526878        3.342580\n",
      "3     3   4.801772        6.325747\n",
      "4     4   5.314625        4.009159\n"
     ]
    }
   ],
   "source": [
    "df = pd.read_csv( \"Dataset.data\",header=None,delimiter = r\"\\s+\" )\n",
    "label_encoder = preprocessing.LabelEncoder() \n",
    "df[0]= label_encoder.fit_transform(df[0])\n",
    "feature_cols = [0,1,2,3,4,5,6,7]\n",
    "target = [8]\n",
    "X = df[feature_cols]\n",
    "Y = df[target]\n",
    "Xfold1,Xfold2,Xfold3,Xfold4,Xfold5 = fold_split(X)\n",
    "Yfold1,Yfold2,Yfold3,Yfold4,Yfold5 = fold_split(Y)\n",
    "\n",
    "dfX1 = pd.concat([Xfold1,Xfold2,Xfold3,Xfold4], ignore_index=True)\n",
    "dfY1 = pd.concat([Yfold1,Yfold2,Yfold3,Yfold4], ignore_index=True)\n",
    "params = get_best_param(dfX1, dfY1) \n",
    "Y_train1 = dfX1.dot(params)\n",
    "Y_pred1 = Xfold5.dot(params)\n",
    "\n",
    "dfX2 = pd.concat([Xfold2,Xfold3,Xfold4,Xfold5], ignore_index=True)\n",
    "dfY2 = pd.concat([Yfold2,Yfold3,Yfold4,Yfold5], ignore_index=True)\n",
    "params = get_best_param(dfX2, dfY2) \n",
    "Y_train2 = dfX2.dot(params)\n",
    "Y_pred2 = Xfold1.dot(params)\n",
    "\n",
    "dfX3 = pd.concat([Xfold3,Xfold4,Xfold5,Xfold1], ignore_index=True)\n",
    "dfY3 = pd.concat([Yfold3,Yfold4,Yfold5,Yfold1], ignore_index=True)\n",
    "params = get_best_param(dfX3, dfY3) \n",
    "Y_train3 = dfX3.dot(params)\n",
    "Y_pred3 = Xfold2.dot(params)\n",
    "\n",
    "dfX4 = pd.concat([Xfold4,Xfold5,Xfold1,Xfold2], ignore_index=True)\n",
    "dfY4 = pd.concat([Yfold4,Yfold5,Yfold1,Yfold2], ignore_index=True)\n",
    "params = get_best_param(dfX4, dfY4) \n",
    "Y_train4 = dfX4.dot(params)\n",
    "Y_pred4 = Xfold3.dot(params)\n",
    "\n",
    "\n",
    "dfX5 = pd.concat([Xfold5,Xfold1,Xfold2,Xfold3], ignore_index=True)\n",
    "dfY5 = pd.concat([Yfold5,Yfold1,Yfold2,Yfold3], ignore_index=True)\n",
    "params = get_best_param(dfX5, dfY5) \n",
    "Y_train5 = dfX5.dot(params)\n",
    "Y_pred5 = Xfold4.dot(params)\n",
    "\n",
    "\n",
    "list1=[]\n",
    "    \n",
    "list1.append((5,mse(dfY1,Y_train1),mse(Yfold5,Y_pred1)))\n",
    "list1.append((1,mse(dfY2,Y_train2),mse(Yfold1,Y_pred2)))\n",
    "list1.append((2,mse(dfY3,Y_train3),mse(Yfold2,Y_pred3)))\n",
    "list1.append((3,mse(dfY4,Y_train4),mse(Yfold3,Y_pred4)))\n",
    "list1.append((4,mse(dfY5,Y_train5),mse(Yfold4,Y_pred5)))\n",
    "df2 = DataFrame(list1,columns=['Fold','Train MSE','Validation MSE'])\n",
    "print(df2)\n",
    "\n"
   ]
  },
  {
   "cell_type": "code",
   "execution_count": 7,
   "metadata": {},
   "outputs": [
    {
     "data": {
      "text/plain": [
       "[(5, 5.259382123818233, 4.218434127052643),\n",
       " (1, 3.9932542015992363, 10.18576061096918),\n",
       " (2, 5.526877600879721, 3.3425801618832582),\n",
       " (3, 4.80177243092108, 6.325746800927084),\n",
       " (4, 5.314624577250691, 4.009158821519838)]"
      ]
     },
     "execution_count": 7,
     "metadata": {},
     "output_type": "execute_result"
    }
   ],
   "source": [
    "list1\n"
   ]
  },
  {
   "cell_type": "code",
   "execution_count": null,
   "metadata": {},
   "outputs": [],
   "source": []
  }
 ],
 "metadata": {
  "kernelspec": {
   "display_name": "Python 3",
   "language": "python",
   "name": "python3"
  },
  "language_info": {
   "codemirror_mode": {
    "name": "ipython",
    "version": 3
   },
   "file_extension": ".py",
   "mimetype": "text/x-python",
   "name": "python",
   "nbconvert_exporter": "python",
   "pygments_lexer": "ipython3",
   "version": "3.8.3"
  }
 },
 "nbformat": 4,
 "nbformat_minor": 4
}
